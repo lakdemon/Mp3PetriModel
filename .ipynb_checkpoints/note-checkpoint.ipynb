{
 "cells": [
  {
   "cell_type": "markdown",
   "metadata": {
    "slideshow": {
     "slide_type": "slide"
    }
   },
   "source": [
    "# Моделирование сетей Петри\n",
    "### Модель: mp3 плеер"
   ]
  },
  {
   "cell_type": "markdown",
   "metadata": {
    "slideshow": {
     "slide_type": "slide"
    }
   },
   "source": [
    "#### Этап 1: Декомпозиция системы\n",
    "Для построения архитектурной схемы необходимо определить основные направления моделирования.\n",
    "Разобьем систему на пять её составляющих для удобства моделирования.\n",
    "- Питание плеера\n",
    "- Комплектующие\n",
    "- Динамик\n",
    "- Управление\n",
    "- Дисплей"
   ]
  },
  {
   "cell_type": "markdown",
   "metadata": {
    "slideshow": {
     "slide_type": "fragment"
    }
   },
   "source": [
    "Рассмотрим каждую из подсистем:"
   ]
  },
  {
   "cell_type": "markdown",
   "metadata": {
    "slideshow": {
     "slide_type": "subslide"
    }
   },
   "source": [
    "#### 1. Питание плеера.\n",
    "\n",
    "- Входной сигнал\n",
    "\n",
    "- Вход зарядки аккумулятора\n",
    "\n",
    "- Аккумулятор\n",
    "\n",
    "- Вольтметр\n",
    "\n",
    "- Контроллер\n",
    "\n",
    "- Индикатор зарядки"
   ]
  },
  {
   "cell_type": "markdown",
   "metadata": {
    "slideshow": {
     "slide_type": "subslide"
    }
   },
   "source": [
    "#### 2. Комплектующие.\n",
    "\n",
    "- Контроллер тока\n",
    "\n",
    "- Главный процессор\n",
    "\n",
    "- Память\n",
    "\n",
    "- Декодер\n",
    "\n",
    "- ЦАП\n",
    "\n",
    "- Усилител"
   ]
  },
  {
   "cell_type": "markdown",
   "metadata": {
    "slideshow": {
     "slide_type": "subslide"
    }
   },
   "source": [
    "#### 3. Динамик.\n",
    "\n",
    "- Контакты\n",
    "\n",
    "- Катушка\n",
    "\n",
    "- Магнит\n",
    "\n",
    "- Дифузор\n",
    "\n",
    "- Р.м.п\n",
    "\n",
    "- Выходной сигнал"
   ]
  },
  {
   "cell_type": "markdown",
   "metadata": {
    "slideshow": {
     "slide_type": "subslide"
    }
   },
   "source": [
    "#### 4) Управление.\n",
    "\n",
    "- Кнопка «Плей/пауза»\n",
    "\n",
    "- Кнопка «Следующий трек»\n",
    "\n",
    "- Кнопка «Предыдущий трек»\n",
    "\n",
    "- Кнопка «Громкость +»\n",
    "\n",
    "- Кнопка «Громкость -»\n",
    "\n",
    "- Входной сигнал"
   ]
  },
  {
   "cell_type": "markdown",
   "metadata": {
    "slideshow": {
     "slide_type": "subslide"
    }
   },
   "source": [
    "#### 5) Дисплей.\n",
    "\n",
    "- Процессор дисплея\n",
    "\n",
    "- Подсветка\n",
    "\n",
    "- Поляризационная пленка\n",
    "\n",
    "- Жидкие кристаллы\n",
    "\n",
    "- Цветной фильтр\n",
    "\n",
    "- Стекло\n",
    "\n",
    "- Выходной сигнал"
   ]
  },
  {
   "cell_type": "markdown",
   "metadata": {
    "slideshow": {
     "slide_type": "subslide"
    }
   },
   "source": [
    "### Архитектурная схема\n",
    "![alt-текст](https://github.com/lakdemon/Mp3PetriModel/raw/master/images/shema.jpg \"\")"
   ]
  },
  {
   "cell_type": "markdown",
   "metadata": {
    "slideshow": {
     "slide_type": "slide"
    }
   },
   "source": [
    "#### Этап 2: Построение сети Петри\n",
    "Для построения сети петри было использовано программное обеспечение: Wolfgang"
   ]
  },
  {
   "cell_type": "markdown",
   "metadata": {
    "slideshow": {
     "slide_type": "fragment"
    }
   },
   "source": [
    "![alt-текст](https://github.com/lakdemon/Mp3PetriModel/raw/master/images/ptnet.jpg \"\")"
   ]
  },
  {
   "cell_type": "code",
   "execution_count": null,
   "metadata": {},
   "outputs": [],
   "source": []
  }
 ],
 "metadata": {
  "celltoolbar": "Slideshow",
  "kernelspec": {
   "display_name": "Python 3",
   "language": "python",
   "name": "python3"
  },
  "language_info": {
   "codemirror_mode": {
    "name": "ipython",
    "version": 3
   },
   "file_extension": ".py",
   "mimetype": "text/x-python",
   "name": "python",
   "nbconvert_exporter": "python",
   "pygments_lexer": "ipython3",
   "version": "3.5.3"
  }
 },
 "nbformat": 4,
 "nbformat_minor": 2
}
