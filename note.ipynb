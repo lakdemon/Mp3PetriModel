{
 "cells": [
  {
   "cell_type": "markdown",
   "metadata": {
    "slideshow": {
     "slide_type": "slide"
    }
   },
   "source": [
    "# Моделирование сетей Петри\n",
    "### Модель: mp3 плеер"
   ]
  },
  {
   "cell_type": "markdown",
   "metadata": {
    "slideshow": {
     "slide_type": "slide"
    }
   },
   "source": [
    "#### Этап 1: Декомпозиция системы\n",
    "Для построения архитектурной схемы необходимо определить основные направления моделирования.\n",
    "Разобьем систему на пять её составляющих для удобства моделирования.\n",
    "- Питание плеера\n",
    "- Комплектующие\n",
    "- Динамик\n",
    "- Управление\n",
    "- Дисплей"
   ]
  },
  {
   "cell_type": "markdown",
   "metadata": {
    "slideshow": {
     "slide_type": "fragment"
    }
   },
   "source": [
    "Рассмотрим каждую из подсистем:"
   ]
  },
  {
   "cell_type": "markdown",
   "metadata": {
    "slideshow": {
     "slide_type": "subslide"
    }
   },
   "source": [
    "#### 1. Питание плеера.\n",
    "\n",
    "- Входной сигнал\n",
    "\n",
    "- Вход зарядки аккумулятора\n",
    "\n",
    "- Аккумулятор\n",
    "\n",
    "- Вольтметр\n",
    "\n",
    "- Контроллер\n",
    "\n",
    "- Индикатор зарядки"
   ]
  },
  {
   "cell_type": "markdown",
   "metadata": {
    "slideshow": {
     "slide_type": "subslide"
    }
   },
   "source": [
    "#### 2. Комплектующие.\n",
    "\n",
    "- Контроллер тока\n",
    "\n",
    "- Главный процессор\n",
    "\n",
    "- Память\n",
    "\n",
    "- Декодер\n",
    "\n",
    "- ЦАП\n",
    "\n",
    "- Усилител"
   ]
  },
  {
   "cell_type": "markdown",
   "metadata": {
    "slideshow": {
     "slide_type": "subslide"
    }
   },
   "source": [
    "#### 3. Динамик.\n",
    "\n",
    "- Контакты\n",
    "\n",
    "- Катушка\n",
    "\n",
    "- Магнит\n",
    "\n",
    "- Дифузор\n",
    "\n",
    "- Р.м.п\n",
    "\n",
    "- Выходной сигнал"
   ]
  },
  {
   "cell_type": "markdown",
   "metadata": {
    "slideshow": {
     "slide_type": "subslide"
    }
   },
   "source": [
    "#### 4) Управление.\n",
    "\n",
    "- Кнопка «Плей/пауза»\n",
    "\n",
    "- Кнопка «Следующий трек»\n",
    "\n",
    "- Кнопка «Предыдущий трек»\n",
    "\n",
    "- Кнопка «Громкость +»\n",
    "\n",
    "- Кнопка «Громкость -»\n",
    "\n",
    "- Входной сигнал"
   ]
  },
  {
   "cell_type": "markdown",
   "metadata": {
    "slideshow": {
     "slide_type": "subslide"
    }
   },
   "source": [
    "#### 5) Дисплей.\n",
    "\n",
    "- Процессор дисплея\n",
    "\n",
    "- Подсветка\n",
    "\n",
    "- Поляризационная пленка\n",
    "\n",
    "- Жидкие кристаллы\n",
    "\n",
    "- Цветной фильтр\n",
    "\n",
    "- Стекло\n",
    "\n",
    "- Выходной сигнал"
   ]
  },
  {
   "cell_type": "markdown",
   "metadata": {
    "slideshow": {
     "slide_type": "subslide"
    }
   },
   "source": [
    "### Архитектурная схема\n",
    "![alt-текст](https://github.com/lakdemon/Mp3PetriModel/raw/master/images/shema.jpg \"\")"
   ]
  },
  {
   "cell_type": "markdown",
   "metadata": {
    "slideshow": {
     "slide_type": "slide"
    }
   },
   "source": [
    "#### Этап 2: Построение сети Петри\n",
    "Для построения сети Петри было использовано программное обеспечение: Wolfgang, Diagram Desinger"
   ]
  },
  {
   "cell_type": "markdown",
   "metadata": {
    "slideshow": {
     "slide_type": "fragment"
    }
   },
   "source": [
    "![alt-текст](https://github.com/lakdemon/Mp3PetriModel/raw/master/images/ptnet.jpg \"\")"
   ]
  },
  {
   "cell_type": "markdown",
   "metadata": {
    "slideshow": {
     "slide_type": "slide"
    }
   },
   "source": [
    "#### Этап 3: Анализ сети Петри\n",
    "Для анализа сети Петри необходимо рассмотреть следующие параметры:\n",
    "- Безопасность\n",
    "- Ограниченность\n",
    "- Сохранение\n",
    "- Активность"
   ]
  },
  {
   "cell_type": "markdown",
   "metadata": {
    "slideshow": {
     "slide_type": "subslide"
    }
   },
   "source": [
    "##### Неполное дерево достижимости:\n",
    "![alt-текст](https://github.com/lakdemon/Mp3PetriModel/raw/master/images/tree.png \"\")"
   ]
  },
  {
   "cell_type": "markdown",
   "metadata": {
    "slideshow": {
     "slide_type": "subslide"
    }
   },
   "source": [
    "##### Безопасность\n",
    "Наша сеть не является безопасной, т.к у нас в нашей сети есть места, где могут копиться фишки. Очень. Много. Мест.\n",
    "Например предполагается что фишки могут и будут копиться в позиции P0, т.к. это аккамулятор, то он предполагает накопление заряда.\n",
    "![alt-текст](https://github.com/lakdemon/Mp3PetriModel/raw/master/images/part.png \"\")"
   ]
  },
  {
   "cell_type": "markdown",
   "metadata": {
    "slideshow": {
     "slide_type": "subslide"
    }
   },
   "source": [
    "##### Ограниченность\n",
    "Наша сеть не является ограниченной, т.к. фишки могут копиться бесконечно."
   ]
  },
  {
   "cell_type": "markdown",
   "metadata": {
    "slideshow": {
     "slide_type": "subslide"
    }
   },
   "source": [
    "##### Сохранение\n",
    "Наша сеть не обладает свойством сохранения, т.к. число фишек может и будет меняться."
   ]
  },
  {
   "cell_type": "markdown",
   "metadata": {
    "slideshow": {
     "slide_type": "subslide"
    }
   },
   "source": [
    "##### Активность\n",
    "Наша сеть Петри является активной, поскольку она отвечает\n",
    "требованиям активности сети Петри. Все переходы могут быть запущены\n",
    "либо из текущей маркировки, либо потенциально. Ура, товарищи!"
   ]
  },
  {
   "cell_type": "markdown",
   "metadata": {
    "slideshow": {
     "slide_type": "slide"
    }
   },
   "source": [
    "### Исследование параметров\n",
    "\n",
    "Для рассмотрения параметров была добавлена позиция Р11. При нажатии кнопки t7 сигнал передается на обработчик и если это была кнопка увелечения громкости, то срабатывает переход t10 и к позиции P11 добавляется новая фишка. Таким образом данная позиция является счетчиком для определения необходимой громкости для воспроизведения трека.\n",
    "![alt-текст](https://github.com/lakdemon/Mp3PetriModel/raw/master/images/param.png \"\")"
   ]
  },
  {
   "cell_type": "markdown",
   "metadata": {
    "slideshow": {
     "slide_type": "slide"
    }
   },
   "source": [
    "# Спасибо за внимание"
   ]
  },
  {
   "cell_type": "code",
   "execution_count": null,
   "metadata": {},
   "outputs": [],
   "source": []
  }
 ],
 "metadata": {
  "celltoolbar": "Slideshow",
  "kernelspec": {
   "display_name": "Python 3",
   "language": "python",
   "name": "python3"
  },
  "language_info": {
   "codemirror_mode": {
    "name": "ipython",
    "version": 3
   },
   "file_extension": ".py",
   "mimetype": "text/x-python",
   "name": "python",
   "nbconvert_exporter": "python",
   "pygments_lexer": "ipython3",
   "version": "3.5.3"
  }
 },
 "nbformat": 4,
 "nbformat_minor": 2
}
